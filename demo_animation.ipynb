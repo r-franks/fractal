{
 "cells": [
  {
   "cell_type": "code",
   "execution_count": 1,
   "id": "1dcbaf40",
   "metadata": {},
   "outputs": [],
   "source": [
    "from fractal.triangle_folding import unfold_iso_triangle, triangle_grid\n",
    "from fractal.geometry_fractal import reg_poly_fractal\n",
    "from fractal.com_fractal import com_fractal\n",
    "from fractal.appollonian import chaos_map_iter\n",
    "from fractal.animation import animate\n",
    "import matplotlib.pyplot as plt\n",
    "import numpy as np\n",
    "from scipy import signal"
   ]
  },
  {
   "cell_type": "code",
   "execution_count": 2,
   "id": "a10b1ecc",
   "metadata": {},
   "outputs": [],
   "source": [
    "# Increase chunksize to avoid memory issues\n",
    "import matplotlib as mpl\n",
    "mpl.rcParams['agg.path.chunksize'] = 1000000"
   ]
  },
  {
   "cell_type": "code",
   "execution_count": 3,
   "id": "2a839566",
   "metadata": {},
   "outputs": [],
   "source": [
    "# warpage is the % of a circle the triangle is folded into\n",
    "# 1.0 means the triangle is folded fully into a circular, 0.5 means semi-circles, etc\n",
    "warpage = 1.0"
   ]
  },
  {
   "cell_type": "code",
   "execution_count": 4,
   "id": "ea0b6cc1",
   "metadata": {},
   "outputs": [],
   "source": [
    "# Different functions for radial folding\n",
    "sine1 = lambda t: 0.5*(np.sin(np.pi*t)+1)\n",
    "triwave1 = lambda t: 0.5*(signal.sawtooth(np.pi*t, 0.5)+1)\n",
    "sine2 = lambda t: 0.5*np.sin(np.pi*t)\n",
    "triwave2 = lambda t: 0.5*signal.sawtooth(np.pi*t, 0.5)\n",
    "tan1 = lambda t: 0.5*(np.tan(np.pi*t)+1)\n",
    "\n",
    "custom_map = triwave1"
   ]
  },
  {
   "cell_type": "markdown",
   "id": "74b88c23",
   "metadata": {},
   "source": [
    "# Sierpinski Triangle Folding Animation"
   ]
  },
  {
   "cell_type": "code",
   "execution_count": 5,
   "id": "873d1f08",
   "metadata": {},
   "outputs": [],
   "source": [
    "# generate a Sierpinski triangle\n",
    "sierpinski = reg_poly_fractal(3, 13, scaling=0.5, rotation=0)\n",
    "\n",
    "# determine its maximum height (the max radius of the circle when its folded)\n",
    "max_r = sierpinski[:,1].max()\n",
    "\n",
    "# Unfold the Sierpinski triangle into a circle and then apply custom_maps (which progressively fold the radius more over time)\n",
    "# This generates a list of coordinate points to be plotted\n",
    "disc_shapes = [unfold_iso_triangle(sierpinski, warpage=warpage, custom_map=lambda r,theta: [max_r*custom_map(a*r/max_r), theta])\n",
    "                for a in np.linspace(1, 1.75, num=200)]"
   ]
  },
  {
   "cell_type": "code",
   "execution_count": 6,
   "id": "47a675e8",
   "metadata": {},
   "outputs": [],
   "source": [
    "# Animate by sequentially plotting each coordinate set in the list over time, and saving to a gif\n",
    "plot_kwargs={\"ls\":'', \"marker\":'.', \"markersize\":0.01, \"linewidth\": 0.1, \"alpha\":0.2}\n",
    "animate(disc_shapes, \"sierpinski_triwave1.gif\", fps=60, windowsize=[[-3*np.pi, 3*np.pi], [-3*np.pi, 3*np.pi]], figsize=[6,6], keep_axis=False, plot_kwargs=plot_kwargs)"
   ]
  },
  {
   "cell_type": "markdown",
   "id": "5062f731",
   "metadata": {},
   "source": [
    "# Grid in Triangle Folding Animation"
   ]
  },
  {
   "cell_type": "code",
   "execution_count": 7,
   "id": "b3286c4e",
   "metadata": {},
   "outputs": [],
   "source": [
    "# Generate a gridded triangle (X_hor for horizontal gridlines, X_vert for vertical gridlines)\n",
    "X_hor, X_vert = triangle_grid(n_gridlines=21, n_points=100001)\n",
    "\n",
    "# Determine max height of gridlines (which will become the max height of the folded circle)\n",
    "max_r = max(X_vert[:,1].max(), X_hor[:,1].max())\n",
    "\n",
    "# Unfold the gridded triangle's horizontal and vertical lines into a circle \n",
    "# and apply custom_maps (which progressively fold the radius more over time)\n",
    "# Note that disc_shapes is now a list of lists of form [X_hor, X_vert] where each is an array of 2d coordinates\n",
    "disc_shapes = [[unfold_iso_triangle(X_hor, warpage=warpage, custom_map=lambda r,theta: [max_r*custom_map(a*r/max_r), theta]),\n",
    "                unfold_iso_triangle(X_vert, warpage=warpage, custom_map=lambda r,theta: [max_r*custom_map(a*r/max_r), theta])]\n",
    "                for a in np.linspace(1, 5, num=200)]"
   ]
  },
  {
   "cell_type": "code",
   "execution_count": 8,
   "id": "8b14a397",
   "metadata": {},
   "outputs": [],
   "source": [
    "# Animate by sequentially plotting each coordinate set in the list over time, and saving to a gif\n",
    "plot_kwargs={\"ls\":'', \"marker\":'.', \"markersize\":1, \"alpha\":0.1}\n",
    "animate(disc_shapes, \"triangle_grid_triwave1.gif\", fps=60, windowsize=None, figsize=[8,8], keep_axis=False, plot_kwargs=plot_kwargs)"
   ]
  },
  {
   "cell_type": "markdown",
   "id": "fb35de46",
   "metadata": {},
   "source": [
    "# Appollonian Gasket Folding Animation"
   ]
  },
  {
   "cell_type": "code",
   "execution_count": 9,
   "id": "872bce6e",
   "metadata": {},
   "outputs": [
    {
     "name": "stderr",
     "output_type": "stream",
     "text": [
      "100%|██████████| 500000/500000 [00:54<00:00, 9110.64it/s]\n"
     ]
    }
   ],
   "source": [
    "# Generate Appollonian Gasket via Chaos Game\n",
    "appollonian = chaos_map_iter(iters=500000, n_inputs_reused=5)"
   ]
  },
  {
   "cell_type": "code",
   "execution_count": 10,
   "id": "5584612b",
   "metadata": {},
   "outputs": [],
   "source": [
    "# Helper functions to determine the radius,\n",
    "# (the Appollonian gasket automatically starts as a circle so we need to determine its polar coords to do radial folding)\n",
    "def from_2d(coords):\n",
    "    # Converts (?, 2) array to two (?,) arrays\n",
    "    return coords[:,0], coords[:,1]\n",
    "\n",
    "def to_2d(x, y):\n",
    "    # Converts two (?,) arrays to a (?, 2) array\n",
    "    return np.concatenate([x.reshape(-1,1), y.reshape(-1,1)], axis=1)\n",
    "\n",
    "def cartesian_to_polar(coords):\n",
    "    x, y = from_2d(coords)\n",
    "    r = np.sqrt(x**2 + y**2)\n",
    "    theta = np.arctan2(y, x)\n",
    "    return to_2d(r, theta)\n",
    "\n",
    "def polar_to_cartesian(coords):\n",
    "    r, theta = from_2d(coords)\n",
    "    x = r*np.cos(theta)\n",
    "    y = r*np.sin(theta)\n",
    "    return to_2d(x, y)"
   ]
  },
  {
   "cell_type": "code",
   "execution_count": 11,
   "id": "2ebba3de",
   "metadata": {
    "scrolled": true
   },
   "outputs": [],
   "source": [
    "# Determine polar coordinates and radius\n",
    "apolarnian = cartesian_to_polar(appollonian)\n",
    "max_r = appollonian[:,0].max()\n",
    "\n",
    "# Define function to alter the radius of the polar coords and convert to Cartesian\n",
    "def radius_rotate(coords_polar, a):\n",
    "    new_r = max_r*custom_map(a*coords_polar[:,0]/max_r).astype(\"float32\")\n",
    "    new_polar = to_2d(new_r, coords_polar[:,1])\n",
    "    return polar_to_cartesian(new_polar)\n",
    "\n",
    "# Alter the polar coords ot the Appollonian gasket (which progressively fold the radius more over time)\n",
    "appollonian_shapes = [radius_rotate(apolarnian, a) for a in np.linspace(1, 5, num=200)]"
   ]
  },
  {
   "cell_type": "code",
   "execution_count": 12,
   "id": "616e8883",
   "metadata": {},
   "outputs": [],
   "source": [
    "# Animate by sequentially plotting each coordinate set in the list over time, and saving to a gif\n",
    "plot_kwargs = {\"ls\":'', \"marker\":'.', \"markersize\":0.025}\n",
    "animate(appollonian_shapes, \"appollonian_triwave1.gif\", fps=60, figsize=[6,6], keep_axis=False, plot_kwargs=plot_kwargs)"
   ]
  }
 ],
 "metadata": {
  "kernelspec": {
   "display_name": "Python 3 (ipykernel)",
   "language": "python",
   "name": "python3"
  },
  "language_info": {
   "codemirror_mode": {
    "name": "ipython",
    "version": 3
   },
   "file_extension": ".py",
   "mimetype": "text/x-python",
   "name": "python",
   "nbconvert_exporter": "python",
   "pygments_lexer": "ipython3",
   "version": "3.9.7"
  }
 },
 "nbformat": 4,
 "nbformat_minor": 5
}
