{
 "cells": [
  {
   "cell_type": "code",
   "execution_count": null,
   "id": "5c8c08de",
   "metadata": {},
   "outputs": [],
   "source": [
    "from fractal.triangle_folding import unfold_iso_triangle, triangle_grid\n",
    "from fractal.geometry_fractal import reg_poly_fractal\n",
    "from fractal.com_fractal import com_fractal\n",
    "from fractal.animation import animate\n",
    "import matplotlib.pyplot as plt\n",
    "import numpy as np"
   ]
  },
  {
   "cell_type": "code",
   "execution_count": null,
   "id": "d99334e8",
   "metadata": {},
   "outputs": [],
   "source": [
    "# warpage is the % of a circle the triangle is folded into\n",
    "# 1.0 means the triangle is folded fully into a circular, 0.5 means semi-circles, etc\n",
    "warpage = 1"
   ]
  },
  {
   "cell_type": "markdown",
   "id": "9620587b",
   "metadata": {},
   "source": [
    "# Gridded Triangle Folding"
   ]
  },
  {
   "cell_type": "code",
   "execution_count": null,
   "id": "37d7c081",
   "metadata": {},
   "outputs": [],
   "source": [
    "# Generate a gridded triangle (X_hor for horizontal gridlines, X_vert for vertical gridlines)\n",
    "X_hor, X_vert = triangle_grid(n_gridlines=21, n_points=100001)\n",
    "\n",
    "# Optionally specify a custom_map to warp the radial component of the circle\n",
    "custom_map = None\n",
    "# custom_map = lambda r,theta: [np.sin(7.2*r), theta]\n",
    "\n",
    "# Unfold the gridded triangle's horizontal and vertical lines into circles\n",
    "folded_hor = unfold_iso_triangle(X_hor, custom_map=custom_map)\n",
    "folded_vert = unfold_iso_triangle(X_vert, custom_map=custom_map)"
   ]
  },
  {
   "cell_type": "code",
   "execution_count": null,
   "id": "28550a4c",
   "metadata": {},
   "outputs": [],
   "source": [
    "# Plot the original gridded triangle next to the folded gridded triangle\n",
    "f, (ax1, ax2) = plt.subplots(1, 2, figsize=[12, 6])\n",
    "ax1.set_aspect('equal')\n",
    "ax2.set_aspect('equal')\n",
    "ax1.axis('off')\n",
    "ax2.axis('off')\n",
    "ax1.plot(X_hor[:,0], X_hor[:,1], '.', markersize=0.1)\n",
    "ax1.plot(X_vert[:,0], X_vert[:,1], '.', markersize=0.1)\n",
    "\n",
    "res = ax2.plot(folded_hor[:,0], folded_hor[:,1], '.', markersize=0.1)\n",
    "res = ax2.plot(folded_vert[:,0], folded_vert[:,1], '.', markersize=0.1)"
   ]
  },
  {
   "cell_type": "markdown",
   "id": "2a6c5b68",
   "metadata": {},
   "source": [
    "# Sierpinski Triangle Folding"
   ]
  },
  {
   "cell_type": "code",
   "execution_count": null,
   "id": "dd040ab0",
   "metadata": {},
   "outputs": [],
   "source": [
    "# Generate a Sierpinski Triangle\n",
    "sierpinski = reg_poly_fractal(3, 13, scaling=0.5, rotation=0)\n",
    "\n",
    "# Optionally specify a custom_map to warp the radial component of the circle\n",
    "custom_map = None\n",
    "# custom_map = lambda r,theta: [np.sin(3*r), theta]\n",
    "\n",
    "# Fold it\n",
    "folded_sierpinski = unfold_iso_triangle(sierpinski, custom_map=custom_map)"
   ]
  },
  {
   "cell_type": "code",
   "execution_count": null,
   "id": "c6e88c8f",
   "metadata": {},
   "outputs": [],
   "source": [
    "# Plot the original Sierpinski Triangle next to the folded Sierpinski Triangle\n",
    "plt.figure(figsize=[8,8])\n",
    "f, (ax1, ax2) = plt.subplots(1, 2, figsize=[12, 6])\n",
    "ax1.set_aspect('equal')\n",
    "ax2.set_aspect('equal')\n",
    "ax1.axis('off')\n",
    "ax2.axis('off')\n",
    "res = ax1.plot(sierpinski[:,0], sierpinski[:,1], '.', markersize=0.025)\n",
    "res = ax2.plot(folded_sierpinski[:,0], folded_sierpinski[:,1], '.', markersize=0.025)"
   ]
  },
  {
   "cell_type": "code",
   "execution_count": null,
   "id": "67bf3ab7",
   "metadata": {},
   "outputs": [],
   "source": [
    "# Generate a center of mass fractal\n",
    "com = com_fractal(iters=12)\n",
    "\n",
    "# Optionally specify a custom_map to warp the radial component of the circle\n",
    "custom_map = None\n",
    "# custom_map = lambda r,theta: [np.sin(3*r), theta]\n",
    "\n",
    "# Fold it\n",
    "folded_com = unfold_iso_triangle(com, custom_map=custom_map)"
   ]
  },
  {
   "cell_type": "code",
   "execution_count": null,
   "id": "51d80ce7",
   "metadata": {
    "scrolled": true
   },
   "outputs": [],
   "source": [
    "# Plot the original CoM Fractal Triangle next to the folded CoM Fractal Triangle\n",
    "plt.figure(figsize=[8,8])\n",
    "f, (ax1, ax2) = plt.subplots(1, 2, figsize=[12, 6])\n",
    "ax1.set_aspect('equal')\n",
    "ax2.set_aspect('equal')\n",
    "ax1.axis('off')\n",
    "ax2.axis('off')\n",
    "res = ax1.plot(com[:,0], com[:,1], '-', linewidth=0.01)\n",
    "res = ax2.plot(folded_com[:,0], folded_com[:,1], '-', linewidth=0.01)"
   ]
  }
 ],
 "metadata": {
  "kernelspec": {
   "display_name": "Python 3 (ipykernel)",
   "language": "python",
   "name": "python3"
  },
  "language_info": {
   "codemirror_mode": {
    "name": "ipython",
    "version": 3
   },
   "file_extension": ".py",
   "mimetype": "text/x-python",
   "name": "python",
   "nbconvert_exporter": "python",
   "pygments_lexer": "ipython3",
   "version": "3.9.7"
  }
 },
 "nbformat": 4,
 "nbformat_minor": 5
}
